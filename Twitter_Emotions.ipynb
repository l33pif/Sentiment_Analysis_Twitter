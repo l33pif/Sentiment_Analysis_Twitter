{
  "nbformat": 4,
  "nbformat_minor": 0,
  "metadata": {
    "colab": {
      "name": "Twitter_Emotions.ipynb",
      "provenance": [],
      "collapsed_sections": []
    },
    "kernelspec": {
      "name": "python3",
      "display_name": "Python 3"
    }
  },
  "cells": [
    {
      "cell_type": "markdown",
      "metadata": {
        "id": "QfRdvk1TeO4w",
        "colab_type": "text"
      },
      "source": [
        "# Description : This is a emotion analysis program that parses the tweets fetched from Twitter using Python"
      ]
    },
    {
      "cell_type": "code",
      "metadata": {
        "id": "38ftiVZ2d7qu",
        "colab_type": "code",
        "colab": {}
      },
      "source": [
        "# import libraries\n",
        "\n",
        "import tweepy\n",
        "from textblob import TextBlob\n",
        "from wordcloud import WordCloud\n",
        "import pandas as pd\n",
        "import numpy as np\n",
        "import re\n",
        "import matplotlib.pyplot as plt\n",
        "plt.style.use('fivethirtyeight')"
      ],
      "execution_count": 3,
      "outputs": []
    },
    {
      "cell_type": "code",
      "metadata": {
        "id": "uZEvkyjAeMzP",
        "colab_type": "code",
        "colab": {}
      },
      "source": [
        "# Twitter API credentials\n",
        "consumer_key = 'ycEZMmO2frdqYsFQfYSZlEZzy'\n",
        "consumer_secret = 'r9aJEgLmvmPte9HslJoM37RyP5Gay1ZJ3NfSam67wMTPFmq7IY'\n",
        "access_token = '1197336121107050496-7OTvNKMk5Z1v4nwgjJCpzDaJE5gIdc'\n",
        "access_t_secret = 'Wc9IwyuX48jsKLnF2lsn679sZ03g6yXuy2KZthziMLbgP'"
      ],
      "execution_count": 4,
      "outputs": []
    },
    {
      "cell_type": "code",
      "metadata": {
        "id": "4BBCNM3Wd9Ji",
        "colab_type": "code",
        "colab": {}
      },
      "source": [
        "#create the authentication object\n",
        "authenticate = tweepy.OAuthHandler(consumer_key, consumer_secret)\n",
        "\n",
        "#Set the access tokens\n",
        "authenticate.set_access_token(access_token, access_t_secret)\n",
        "\n",
        "#Create API object while passing in the auth info\n",
        "api = tweepy.API(authenticate, wait_on_rate_limit = True)"
      ],
      "execution_count": 5,
      "outputs": []
    },
    {
      "cell_type": "code",
      "metadata": {
        "id": "LTpqV_tgEgAh",
        "colab_type": "code",
        "colab": {
          "base_uri": "https://localhost:8080/",
          "height": 391
        },
        "outputId": "19bb3ef4-2042-4e65-acdb-52a4b6a6ab6d"
      },
      "source": [
        "#Extract 100 tweets from a hashtag\n",
        "hashtag = api.search(q='#messi', lang='en', result_type='recent', count=100)\n",
        "\n",
        "#print the last 5 tweets\n",
        "print('show 5 tweets')\n",
        "i = 1\n",
        "for tweet in hashtag[:5]:\n",
        "  print(str(i) + ') ' + tweet.text + '\\n')\n",
        "  i += 1"
      ],
      "execution_count": 23,
      "outputs": [
        {
          "output_type": "stream",
          "text": [
            "show 5 tweets\n",
            "1) 🚨New burofax incoming 💣💣 #messi\n",
            "\n",
            "2) @FCBarcelona sacked their law firm for advising Messi on how to terminate his contract with the club. Lol. \n",
            "#Messi #FCBarcelona #football\n",
            "\n",
            "3) RT @1xbet___Odds: ☑️ #1xbet\n",
            "\n",
            "Registration Code 👉5050\n",
            "\n",
            "*To get 200% Bonus\n",
            "\n",
            "📎https://t.co/JRuMooC9sr\n",
            "\n",
            "#MatchDay #football #sports #betting #L…\n",
            "\n",
            "4) RT @Barca_Buzz: 🗣: \"Adjectives have been exhausted trying to describe Messi but there are plenty to describe this really sad, slow, painful…\n",
            "\n",
            "5) RT @cavcav_11: Every Picture Has A Story...\n",
            "#Messi \n",
            "🔟🐐 https://t.co/4aDxJNrom2\n",
            "\n"
          ],
          "name": "stdout"
        }
      ]
    },
    {
      "cell_type": "code",
      "metadata": {
        "id": "UZ7bkBzVHdyW",
        "colab_type": "code",
        "colab": {
          "base_uri": "https://localhost:8080/",
          "height": 204
        },
        "outputId": "02c93dbd-caac-4cd7-9d3b-ac01bd8e7f0d"
      },
      "source": [
        "#Create a dataframe\n",
        "df = pd.DataFrame([tweet.text for tweet in hashtag], columns=['Tweets'])\n",
        "\n",
        "#show the first 5 rows of data\n",
        "df.head()"
      ],
      "execution_count": 25,
      "outputs": [
        {
          "output_type": "execute_result",
          "data": {
            "text/html": [
              "<div>\n",
              "<style scoped>\n",
              "    .dataframe tbody tr th:only-of-type {\n",
              "        vertical-align: middle;\n",
              "    }\n",
              "\n",
              "    .dataframe tbody tr th {\n",
              "        vertical-align: top;\n",
              "    }\n",
              "\n",
              "    .dataframe thead th {\n",
              "        text-align: right;\n",
              "    }\n",
              "</style>\n",
              "<table border=\"1\" class=\"dataframe\">\n",
              "  <thead>\n",
              "    <tr style=\"text-align: right;\">\n",
              "      <th></th>\n",
              "      <th>Tweets</th>\n",
              "    </tr>\n",
              "  </thead>\n",
              "  <tbody>\n",
              "    <tr>\n",
              "      <th>0</th>\n",
              "      <td>🚨New burofax incoming 💣💣 #messi</td>\n",
              "    </tr>\n",
              "    <tr>\n",
              "      <th>1</th>\n",
              "      <td>@FCBarcelona sacked their law firm for advisin...</td>\n",
              "    </tr>\n",
              "    <tr>\n",
              "      <th>2</th>\n",
              "      <td>RT @1xbet___Odds: ☑️ #1xbet\\n\\nRegistration Co...</td>\n",
              "    </tr>\n",
              "    <tr>\n",
              "      <th>3</th>\n",
              "      <td>RT @Barca_Buzz: 🗣: \"Adjectives have been exhau...</td>\n",
              "    </tr>\n",
              "    <tr>\n",
              "      <th>4</th>\n",
              "      <td>RT @cavcav_11: Every Picture Has A Story...\\n#...</td>\n",
              "    </tr>\n",
              "  </tbody>\n",
              "</table>\n",
              "</div>"
            ],
            "text/plain": [
              "                                              Tweets\n",
              "0                    🚨New burofax incoming 💣💣 #messi\n",
              "1  @FCBarcelona sacked their law firm for advisin...\n",
              "2  RT @1xbet___Odds: ☑️ #1xbet\\n\\nRegistration Co...\n",
              "3  RT @Barca_Buzz: 🗣: \"Adjectives have been exhau...\n",
              "4  RT @cavcav_11: Every Picture Has A Story...\\n#..."
            ]
          },
          "metadata": {
            "tags": []
          },
          "execution_count": 25
        }
      ]
    },
    {
      "cell_type": "code",
      "metadata": {
        "id": "MeW1q07YUVdX",
        "colab_type": "code",
        "colab": {
          "base_uri": "https://localhost:8080/",
          "height": 204
        },
        "outputId": "12b39a66-7a58-4319-f304-439a4553462d"
      },
      "source": [
        "#Clean text\n",
        "\n",
        "#create a function to clean the text\n",
        "\n",
        "def clean_text(text):\n",
        "  text = re.sub(r'@[A-za-z0-9]+', '', text) # removing @metions\n",
        "  text = re.sub(r'#', '', text) # removing the '#' symbol\n",
        "  text = re.sub(r'RT[\\s]+', '', text) #removing RT's\n",
        "  text = re.sub(r'https?:\\/\\/?', '', text) #removing links\n",
        "\n",
        "  return text\n",
        "\n",
        "df['Tweets'] = df['Tweets'].apply(clean_text)\n",
        "\n",
        "#show the clean text\n",
        "df.head()\n"
      ],
      "execution_count": 36,
      "outputs": [
        {
          "output_type": "execute_result",
          "data": {
            "text/html": [
              "<div>\n",
              "<style scoped>\n",
              "    .dataframe tbody tr th:only-of-type {\n",
              "        vertical-align: middle;\n",
              "    }\n",
              "\n",
              "    .dataframe tbody tr th {\n",
              "        vertical-align: top;\n",
              "    }\n",
              "\n",
              "    .dataframe thead th {\n",
              "        text-align: right;\n",
              "    }\n",
              "</style>\n",
              "<table border=\"1\" class=\"dataframe\">\n",
              "  <thead>\n",
              "    <tr style=\"text-align: right;\">\n",
              "      <th></th>\n",
              "      <th>Tweets</th>\n",
              "      <th>Subjectivity</th>\n",
              "      <th>Polarity</th>\n",
              "    </tr>\n",
              "  </thead>\n",
              "  <tbody>\n",
              "    <tr>\n",
              "      <th>0</th>\n",
              "      <td>🚨New burofax incoming 💣💣 messi</td>\n",
              "      <td>0.00</td>\n",
              "      <td>0.0</td>\n",
              "    </tr>\n",
              "    <tr>\n",
              "      <th>1</th>\n",
              "      <td>sacked their law firm for advising Messi on h...</td>\n",
              "      <td>0.55</td>\n",
              "      <td>0.3</td>\n",
              "    </tr>\n",
              "    <tr>\n",
              "      <th>2</th>\n",
              "      <td>: ☑️ 1xbet\\n\\nRegistration Code 👉5050\\n\\n*To g...</td>\n",
              "      <td>0.00</td>\n",
              "      <td>0.0</td>\n",
              "    </tr>\n",
              "    <tr>\n",
              "      <th>3</th>\n",
              "      <td>: 🗣: \"Adjectives have been exhausted trying to...</td>\n",
              "      <td>0.70</td>\n",
              "      <td>-0.4</td>\n",
              "    </tr>\n",
              "    <tr>\n",
              "      <th>4</th>\n",
              "      <td>: Every Picture Has A Story...\\nMessi \\n🔟🐐 t.c...</td>\n",
              "      <td>0.00</td>\n",
              "      <td>0.0</td>\n",
              "    </tr>\n",
              "  </tbody>\n",
              "</table>\n",
              "</div>"
            ],
            "text/plain": [
              "                                              Tweets  Subjectivity  Polarity\n",
              "0                     🚨New burofax incoming 💣💣 messi          0.00       0.0\n",
              "1   sacked their law firm for advising Messi on h...          0.55       0.3\n",
              "2  : ☑️ 1xbet\\n\\nRegistration Code 👉5050\\n\\n*To g...          0.00       0.0\n",
              "3  : 🗣: \"Adjectives have been exhausted trying to...          0.70      -0.4\n",
              "4  : Every Picture Has A Story...\\nMessi \\n🔟🐐 t.c...          0.00       0.0"
            ]
          },
          "metadata": {
            "tags": []
          },
          "execution_count": 36
        }
      ]
    },
    {
      "cell_type": "code",
      "metadata": {
        "id": "qwiNUdZJWk50",
        "colab_type": "code",
        "colab": {
          "base_uri": "https://localhost:8080/",
          "height": 419
        },
        "outputId": "28c94cb6-f3ae-4a2b-ea39-e1a7e6b5949e"
      },
      "source": [
        "# Create a function to get the subjectivity\n",
        "def get_subjectivity(text):\n",
        "  return TextBlob(text).sentiment.subjectivity\n",
        "\n",
        "# Create a function to get the polarity\n",
        "def get_polarity(text):\n",
        "  return TextBlob(text).sentiment.polarity\n",
        "\n",
        "# Create the new colums\n",
        "df['Subjectivity'] = df['Tweets'].apply(get_subjectivity)\n",
        "df['Polarity'] = df['Tweets'].apply(get_polarity)\n",
        "\n",
        "# Show the new DataFrame\n",
        "df\n"
      ],
      "execution_count": 37,
      "outputs": [
        {
          "output_type": "execute_result",
          "data": {
            "text/html": [
              "<div>\n",
              "<style scoped>\n",
              "    .dataframe tbody tr th:only-of-type {\n",
              "        vertical-align: middle;\n",
              "    }\n",
              "\n",
              "    .dataframe tbody tr th {\n",
              "        vertical-align: top;\n",
              "    }\n",
              "\n",
              "    .dataframe thead th {\n",
              "        text-align: right;\n",
              "    }\n",
              "</style>\n",
              "<table border=\"1\" class=\"dataframe\">\n",
              "  <thead>\n",
              "    <tr style=\"text-align: right;\">\n",
              "      <th></th>\n",
              "      <th>Tweets</th>\n",
              "      <th>Subjectivity</th>\n",
              "      <th>Polarity</th>\n",
              "    </tr>\n",
              "  </thead>\n",
              "  <tbody>\n",
              "    <tr>\n",
              "      <th>0</th>\n",
              "      <td>🚨New burofax incoming 💣💣 messi</td>\n",
              "      <td>0.000000</td>\n",
              "      <td>0.000000</td>\n",
              "    </tr>\n",
              "    <tr>\n",
              "      <th>1</th>\n",
              "      <td>sacked their law firm for advising Messi on h...</td>\n",
              "      <td>0.550000</td>\n",
              "      <td>0.300000</td>\n",
              "    </tr>\n",
              "    <tr>\n",
              "      <th>2</th>\n",
              "      <td>: ☑️ 1xbet\\n\\nRegistration Code 👉5050\\n\\n*To g...</td>\n",
              "      <td>0.000000</td>\n",
              "      <td>0.000000</td>\n",
              "    </tr>\n",
              "    <tr>\n",
              "      <th>3</th>\n",
              "      <td>: 🗣: \"Adjectives have been exhausted trying to...</td>\n",
              "      <td>0.700000</td>\n",
              "      <td>-0.400000</td>\n",
              "    </tr>\n",
              "    <tr>\n",
              "      <th>4</th>\n",
              "      <td>: Every Picture Has A Story...\\nMessi \\n🔟🐐 t.c...</td>\n",
              "      <td>0.000000</td>\n",
              "      <td>0.000000</td>\n",
              "    </tr>\n",
              "    <tr>\n",
              "      <th>...</th>\n",
              "      <td>...</td>\n",
              "      <td>...</td>\n",
              "      <td>...</td>\n",
              "    </tr>\n",
              "    <tr>\n",
              "      <th>92</th>\n",
              "      <td>: Meet our new recruit at , joining our A&amp;amp;...</td>\n",
              "      <td>0.671717</td>\n",
              "      <td>0.335227</td>\n",
              "    </tr>\n",
              "    <tr>\n",
              "      <th>93</th>\n",
              "      <td>The latest a life in black and white! t.co/OdJ...</td>\n",
              "      <td>0.383333</td>\n",
              "      <td>0.133333</td>\n",
              "    </tr>\n",
              "    <tr>\n",
              "      <th>94</th>\n",
              "      <td>: Football legends 🐐🐐\\n\\nmessi \\nRonaldo \\nfoo...</td>\n",
              "      <td>0.000000</td>\n",
              "      <td>0.000000</td>\n",
              "    </tr>\n",
              "    <tr>\n",
              "      <th>95</th>\n",
              "      <td>❤ the best there ever was. The goat. Messi t.c...</td>\n",
              "      <td>0.300000</td>\n",
              "      <td>1.000000</td>\n",
              "    </tr>\n",
              "    <tr>\n",
              "      <th>96</th>\n",
              "      <td>Peace of mind is over: \\n\\nMessi will NOT show...</td>\n",
              "      <td>0.000000</td>\n",
              "      <td>0.000000</td>\n",
              "    </tr>\n",
              "  </tbody>\n",
              "</table>\n",
              "<p>97 rows × 3 columns</p>\n",
              "</div>"
            ],
            "text/plain": [
              "                                               Tweets  Subjectivity  Polarity\n",
              "0                      🚨New burofax incoming 💣💣 messi      0.000000  0.000000\n",
              "1    sacked their law firm for advising Messi on h...      0.550000  0.300000\n",
              "2   : ☑️ 1xbet\\n\\nRegistration Code 👉5050\\n\\n*To g...      0.000000  0.000000\n",
              "3   : 🗣: \"Adjectives have been exhausted trying to...      0.700000 -0.400000\n",
              "4   : Every Picture Has A Story...\\nMessi \\n🔟🐐 t.c...      0.000000  0.000000\n",
              "..                                                ...           ...       ...\n",
              "92  : Meet our new recruit at , joining our A&amp;...      0.671717  0.335227\n",
              "93  The latest a life in black and white! t.co/OdJ...      0.383333  0.133333\n",
              "94  : Football legends 🐐🐐\\n\\nmessi \\nRonaldo \\nfoo...      0.000000  0.000000\n",
              "95  ❤ the best there ever was. The goat. Messi t.c...      0.300000  1.000000\n",
              "96  Peace of mind is over: \\n\\nMessi will NOT show...      0.000000  0.000000\n",
              "\n",
              "[97 rows x 3 columns]"
            ]
          },
          "metadata": {
            "tags": []
          },
          "execution_count": 37
        }
      ]
    },
    {
      "cell_type": "code",
      "metadata": {
        "id": "u6VkLACcYSEf",
        "colab_type": "code",
        "colab": {
          "base_uri": "https://localhost:8080/",
          "height": 256
        },
        "outputId": "6df28b67-1cea-434c-d0c5-3aab3914ed46"
      },
      "source": [
        "# Plot the Word Cloid\n",
        "all_words = ' '.join( [twts for twts in df['Tweets']] )\n",
        "word_cloud = WordCloud(width=500, height=300, random_state= 21, max_font_size=119).generate(all_words)\n",
        "\n",
        "plt.imshow(word_cloud, interpolation= 'bilinear')\n",
        "plt.axis('off')\n",
        "plt.show()"
      ],
      "execution_count": 38,
      "outputs": [
        {
          "output_type": "display_data",
          "data": {
            "image/png": "[encoded data removed]",
            "text/plain": [
              "<Figure size 432x288 with 1 Axes>"
            ]
          },
          "metadata": {
            "tags": []
          }
        }
      ]
    },
    {
      "cell_type": "code",
      "metadata": {
        "id": "PIqEIiTiaK6A",
        "colab_type": "code",
        "colab": {
          "base_uri": "https://localhost:8080/",
          "height": 419
        },
        "outputId": "72920884-1651-4ab8-c5f2-00140c861fdc"
      },
      "source": [
        "# Create a function to compute the negative, neutral and positive analysis\n",
        "\n",
        "def analysis(score):\n",
        "  if score < 0:\n",
        "    return 'Negative'\n",
        "  elif score == 0:\n",
        "    return 'Neutral'\n",
        "  else:\n",
        "    return 'Positive'\n",
        "\n",
        "# Adding new Column\n",
        "df['Analysis'] = df['Polarity'].apply(analysis)\n",
        "\n",
        "# Show DataFrame\n",
        "df\n"
      ],
      "execution_count": 41,
      "outputs": [
        {
          "output_type": "execute_result",
          "data": {
            "text/html": [
              "<div>\n",
              "<style scoped>\n",
              "    .dataframe tbody tr th:only-of-type {\n",
              "        vertical-align: middle;\n",
              "    }\n",
              "\n",
              "    .dataframe tbody tr th {\n",
              "        vertical-align: top;\n",
              "    }\n",
              "\n",
              "    .dataframe thead th {\n",
              "        text-align: right;\n",
              "    }\n",
              "</style>\n",
              "<table border=\"1\" class=\"dataframe\">\n",
              "  <thead>\n",
              "    <tr style=\"text-align: right;\">\n",
              "      <th></th>\n",
              "      <th>Tweets</th>\n",
              "      <th>Subjectivity</th>\n",
              "      <th>Polarity</th>\n",
              "      <th>Analysis</th>\n",
              "    </tr>\n",
              "  </thead>\n",
              "  <tbody>\n",
              "    <tr>\n",
              "      <th>0</th>\n",
              "      <td>🚨New burofax incoming 💣💣 messi</td>\n",
              "      <td>0.000000</td>\n",
              "      <td>0.000000</td>\n",
              "      <td>Neutral</td>\n",
              "    </tr>\n",
              "    <tr>\n",
              "      <th>1</th>\n",
              "      <td>sacked their law firm for advising Messi on h...</td>\n",
              "      <td>0.550000</td>\n",
              "      <td>0.300000</td>\n",
              "      <td>Positive</td>\n",
              "    </tr>\n",
              "    <tr>\n",
              "      <th>2</th>\n",
              "      <td>: ☑️ 1xbet\\n\\nRegistration Code 👉5050\\n\\n*To g...</td>\n",
              "      <td>0.000000</td>\n",
              "      <td>0.000000</td>\n",
              "      <td>Neutral</td>\n",
              "    </tr>\n",
              "    <tr>\n",
              "      <th>3</th>\n",
              "      <td>: 🗣: \"Adjectives have been exhausted trying to...</td>\n",
              "      <td>0.700000</td>\n",
              "      <td>-0.400000</td>\n",
              "      <td>Negative</td>\n",
              "    </tr>\n",
              "    <tr>\n",
              "      <th>4</th>\n",
              "      <td>: Every Picture Has A Story...\\nMessi \\n🔟🐐 t.c...</td>\n",
              "      <td>0.000000</td>\n",
              "      <td>0.000000</td>\n",
              "      <td>Neutral</td>\n",
              "    </tr>\n",
              "    <tr>\n",
              "      <th>...</th>\n",
              "      <td>...</td>\n",
              "      <td>...</td>\n",
              "      <td>...</td>\n",
              "      <td>...</td>\n",
              "    </tr>\n",
              "    <tr>\n",
              "      <th>92</th>\n",
              "      <td>: Meet our new recruit at , joining our A&amp;amp;...</td>\n",
              "      <td>0.671717</td>\n",
              "      <td>0.335227</td>\n",
              "      <td>Positive</td>\n",
              "    </tr>\n",
              "    <tr>\n",
              "      <th>93</th>\n",
              "      <td>The latest a life in black and white! t.co/OdJ...</td>\n",
              "      <td>0.383333</td>\n",
              "      <td>0.133333</td>\n",
              "      <td>Positive</td>\n",
              "    </tr>\n",
              "    <tr>\n",
              "      <th>94</th>\n",
              "      <td>: Football legends 🐐🐐\\n\\nmessi \\nRonaldo \\nfoo...</td>\n",
              "      <td>0.000000</td>\n",
              "      <td>0.000000</td>\n",
              "      <td>Neutral</td>\n",
              "    </tr>\n",
              "    <tr>\n",
              "      <th>95</th>\n",
              "      <td>❤ the best there ever was. The goat. Messi t.c...</td>\n",
              "      <td>0.300000</td>\n",
              "      <td>1.000000</td>\n",
              "      <td>Positive</td>\n",
              "    </tr>\n",
              "    <tr>\n",
              "      <th>96</th>\n",
              "      <td>Peace of mind is over: \\n\\nMessi will NOT show...</td>\n",
              "      <td>0.000000</td>\n",
              "      <td>0.000000</td>\n",
              "      <td>Neutral</td>\n",
              "    </tr>\n",
              "  </tbody>\n",
              "</table>\n",
              "<p>97 rows × 4 columns</p>\n",
              "</div>"
            ],
            "text/plain": [
              "                                               Tweets  ...  Analysis\n",
              "0                      🚨New burofax incoming 💣💣 messi  ...   Neutral\n",
              "1    sacked their law firm for advising Messi on h...  ...  Positive\n",
              "2   : ☑️ 1xbet\\n\\nRegistration Code 👉5050\\n\\n*To g...  ...   Neutral\n",
              "3   : 🗣: \"Adjectives have been exhausted trying to...  ...  Negative\n",
              "4   : Every Picture Has A Story...\\nMessi \\n🔟🐐 t.c...  ...   Neutral\n",
              "..                                                ...  ...       ...\n",
              "92  : Meet our new recruit at , joining our A&amp;...  ...  Positive\n",
              "93  The latest a life in black and white! t.co/OdJ...  ...  Positive\n",
              "94  : Football legends 🐐🐐\\n\\nmessi \\nRonaldo \\nfoo...  ...   Neutral\n",
              "95  ❤ the best there ever was. The goat. Messi t.c...  ...  Positive\n",
              "96  Peace of mind is over: \\n\\nMessi will NOT show...  ...   Neutral\n",
              "\n",
              "[97 rows x 4 columns]"
            ]
          },
          "metadata": {
            "tags": []
          },
          "execution_count": 41
        }
      ]
    },
    {
      "cell_type": "code",
      "metadata": {
        "id": "8IBtIvwEdQ1G",
        "colab_type": "code",
        "colab": {
          "base_uri": "https://localhost:8080/",
          "height": 1000
        },
        "outputId": "5a449bf9-134e-4c7b-a6c0-9ac33c92d502"
      },
      "source": [
        "# Print all of positive tweets\n",
        "j = 1\n",
        "sortedDF = df.sort_values(by=['Polarity'])\n",
        "for i in range(0, sortedDF.shape[0]):\n",
        "  if(sortedDF['Analysis'][i] == 'Positive'):\n",
        "    print(str(j) + ') ' + sortedDF['Tweets'][i])\n",
        "    print()\n",
        "    j += 1"
      ],
      "execution_count": 43,
      "outputs": [
        {
          "output_type": "stream",
          "text": [
            "1)  sacked their law firm for advising Messi on how to terminate his contract with the club. Lol. \n",
            "Messi FCBarcelona football\n",
            "\n",
            "2) 2020 is so unpredictable :\n",
            "&gt; Psg finally had their first UCL final\n",
            "&gt; Messi Leaving Barcelona\n",
            "&gt; Pogba has not change… t.co/0RilC2nUaw\n",
            "\n",
            "3) : Messi = Barcelona\n",
            "The Best Part ♥️💔\n",
            "•Never saw any player making Commentators Emotional out of joy.\n",
            "\n",
            "The name Lionel Mes…\n",
            "\n",
            "4) LEAKED! Footage reveals Manchester United's Ed Woodward live in action in the transfer market. \n",
            "\n",
            "ARSLIV… t.co/hcCrN4CWbE\n",
            "\n",
            "5) : In 55 years watching football the best player I have seen is Messi.\n",
            "\n",
            "I can tell you that in your lifetime you may still see a…\n",
            "\n",
            "6) : Messi = Barcelona\n",
            "The Best Part ♥️💔\n",
            "•Never saw any player making Commentators Emotional out of joy.\n",
            "\n",
            "The name Lionel Mes…\n",
            "\n",
            "7) : Lionel Messi has announced he wants to leave. Here we take a look at some of his best moments for Barcelona. Simply the great…\n",
            "\n",
            "8) : Lionel Messi is expected to send a new burofax to Barcelona confirming he will not be attending pre-season training, as…\n",
            "\n",
            "9) : In 55 years watching football the best player I have seen is Messi.\n",
            "\n",
            "I can tell you that in your lifetime you may still see a…\n",
            "\n",
            "10) : Lionel Messi is expected to send a new burofax to Barcelona confirming he will not be attending pre-season training, as…\n",
            "\n",
            "11) : Meet our new recruit at , joining our A&amp;R team! Transfer fee was €700M, but I’m sure he’s gonna bring in…\n",
            "\n",
            "12) I grew up supporting Cruyff values in Barcelona and followed Pep who respected them wherever he went. \n",
            "\n",
            "Values over… t.co/9U2qZWv1WZ\n",
            "\n",
            "13) : Messi = Barcelona\n",
            "The Best Part ♥️💔\n",
            "•Never saw any player making Commentators Emotional out of joy.\n",
            "\n",
            "The name Lionel Mes…\n",
            "\n",
            "14) : Messi = Barcelona\n",
            "The Best Part ♥️💔\n",
            "•Never saw any player making Commentators Emotional out of joy.\n",
            "\n",
            "The name Lionel Mes…\n",
            "\n",
            "15) : In 55 years watching football the best player I have seen is Messi.\n",
            "\n",
            "I can tell you that in your lifetime you may still see a…\n",
            "\n",
            "16) CALL IT SNIDENESS: when after the purchase of Pjarnic, something comes up and messi wants to leave and the Media a… t.co/XdkF7aDKW6\n",
            "\n",
            "17) : Lionel Messi is expected to send a new burofax to Barcelona confirming he will not be attending pre-season training, as…\n",
            "\n",
            "18) : Messi = Barcelona\n",
            "The Best Part ♥️💔\n",
            "•Never saw any player making Commentators Emotional out of joy.\n",
            "\n",
            "The name Lionel Mes…\n",
            "\n",
            "19) : In 55 years watching football the best player I have seen is Messi.\n",
            "\n",
            "I can tell you that in your lifetime you may still see a…\n",
            "\n",
            "20) : Meet our new recruit at , joining our A&amp;R team! Transfer fee was €700M, but I’m sure he’s gonna bring in…\n",
            "\n",
            "21) : Meet our new recruit at , joining our A&amp;R team! Transfer fee was €700M, but I’m sure he’s gonna bring in…\n",
            "\n",
            "22) : Messi = Barcelona\n",
            "The Best Part ♥️💔\n",
            "•Never saw any player making Commentators Emotional out of joy.\n",
            "\n",
            "The name Lionel Mes…\n",
            "\n",
            "23) : Messi = Barcelona\n",
            "The Best Part ♥️💔\n",
            "•Never saw any player making Commentators Emotional out of joy.\n",
            "\n",
            "The name Lionel Mes…\n",
            "\n",
            "24) : Meet our new recruit at , joining our A&amp;R team! Transfer fee was €700M, but I’m sure he’s gonna bring in…\n",
            "\n",
            "25) : Lionel Messi is expected to send a new burofax to Barcelona confirming he will not be attending pre-season training, as…\n",
            "\n",
            "26) : In 55 years watching football the best player I have seen is Messi.\n",
            "\n",
            "I can tell you that in your lifetime you may still see a…\n",
            "\n",
            "27) : In 55 years watching football the best player I have seen is Messi.\n",
            "\n",
            "I can tell you that in your lifetime you may still see a…\n",
            "\n",
            "28) : Lionel Messi is expected to send a new burofax to Barcelona confirming he will not be attending pre-season training, as…\n",
            "\n",
            "29) : Messi = Barcelona\n",
            "The Best Part ♥️💔\n",
            "•Never saw any player making Commentators Emotional out of joy.\n",
            "\n",
            "The name Lionel Mes…\n",
            "\n",
            "30) : Lionel Messi is expected to send a new burofax to Barcelona confirming he will not be attending pre-season training, as…\n",
            "\n",
            "31) : Lionel Messi is expected to send a new burofax to Barcelona confirming he will not be attending pre-season training, as…\n",
            "\n",
            "32) : Messi = Barcelona\n",
            "The Best Part ♥️💔\n",
            "•Never saw any player making Commentators Emotional out of joy.\n",
            "\n",
            "The name Lionel Mes…\n",
            "\n",
            "33) 2/2....Messi also said \"super eslavo, el Boingy, el Boingy\"(Super Slav, Boing Boing)...\"Smethwick parece un poco a… t.co/jU9Vh26I9q\n",
            "\n",
            "34) : Lionel Messi is expected to send a new burofax to Barcelona confirming he will not be attending pre-season training, as…\n",
            "\n",
            "35) : Lionel Messi is expected to send a new burofax to Barcelona confirming he will not be attending pre-season training, as…\n",
            "\n",
            "36) : Lionel Messi is expected to send a new burofax to Barcelona confirming he will not be attending pre-season training, as…\n",
            "\n",
            "37) Messi-Bartomeu saga jumps to the high gear again. Bartomeu still believes he can keep Messi or sell him with a high… t.co/IU4aQFGCEJ\n",
            "\n",
            "38) : Lionel Messi is expected to send a new burofax to Barcelona confirming he will not be attending pre-season training, as…\n",
            "\n",
            "39) : Lionel Messi is expected to send a new burofax to Barcelona confirming he will not be attending pre-season training, as…\n",
            "\n",
            "40) : Lionel Messi is expected to send a new burofax to Barcelona confirming he will not be attending pre-season training, as…\n",
            "\n",
            "41) Lionel Messi is expected to send a new burofax to Barcelona confirming he will not be attending pre-season training… t.co/rcLd66afqT\n",
            "\n",
            "42) : Meet our new recruit at , joining our A&amp;R team! Transfer fee was €700M, but I’m sure he’s gonna bring in…\n",
            "\n",
            "43) : Meet our new recruit at , joining our A&amp;R team! Transfer fee was €700M, but I’m sure he’s gonna bring in…\n",
            "\n",
            "44) Wow big news for  messitransfer MessiTooLeeds Messi t.co/NzSByBaAsM\n",
            "\n",
            "45)  you clown destroyed  !!! messi deserves a winning team !!! fuck you BartomeuDimision\n",
            "\n",
            "46) : In 55 years watching football the best player I have seen is Messi.\n",
            "\n",
            "I can tell you that in your lifetime you may still see a…\n",
            "\n",
            "47) : In 55 years watching football the best player I have seen is Messi.\n",
            "\n",
            "I can tell you that in your lifetime you may still see a…\n",
            "\n",
            "48) : Hi i will design professional amazon product listing images, and amazon photo editing, if anyone need my service contact…\n",
            "\n",
            "49) 🔥Messi has informed Barça that he will not appear for the PCR tests at the start of the new season tomorrow. The A… t.co/NCys4uWSIJ\n",
            "\n",
            "50) : Meet our new recruit at , joining our A&amp;R team! Transfer fee was €700M, but I’m sure he’s gonna bring in…\n",
            "\n",
            "51) The latest a life in black and white! t.co/OdJAyZsx2F Thanks to    seriea messi\n",
            "\n",
            "52) ❤ the best there ever was. The goat. Messi t.co/EJKpiIZOoS\n",
            "\n"
          ],
          "name": "stdout"
        }
      ]
    },
    {
      "cell_type": "code",
      "metadata": {
        "id": "RzPQTQYbfbOf",
        "colab_type": "code",
        "colab": {
          "base_uri": "https://localhost:8080/",
          "height": 374
        },
        "outputId": "7c68c033-a6c5-4622-9ec0-110ef64c89d0"
      },
      "source": [
        "# Print all of negative tweets\n",
        "j = 1\n",
        "sortedDF = df.sort_values(by=['Polarity'], ascending='False')\n",
        "for i in range(0, sortedDF.shape[0]):\n",
        "  if(sortedDF['Analysis'][i] == 'Negative'):\n",
        "    print(str(j) + ') ' + sortedDF['Tweets'][i])\n",
        "    print()\n",
        "    j += 1"
      ],
      "execution_count": 44,
      "outputs": [
        {
          "output_type": "stream",
          "text": [
            "1) : 🗣: \"Adjectives have been exhausted trying to describe Messi but there are plenty to describe this really sad, slow, painful…\n",
            "\n",
            "2) Long play the king. Messi t.co/gDtXYTxjfQ\n",
            "\n",
            "3) OFFICIAL: After a long discussion LeoMessi has finally decided to accept our proposal to join our hometown club FC… t.co/n1tA2bffuA\n",
            "\n",
            "4)     Only Maradona would bring a mediocre team like… t.co/kdIZ4s7HSH\n",
            "\n",
            "5) SOME RANDOM KILLS 🔥🔥 | PUBG MOBILE FUNNY MOMENTS 😂😂 | EPISODE 02 t.co/NYEeY5Z2Pf via  pubg… t.co/7gT2NjxDCK\n",
            "\n",
            "6) Messi will not appear tomorrow for pre-season medical tests at training center. He keeps the decision to leave th… t.co/P4Bc4wwNoS\n",
            "\n",
            "7) : A Barca fan cries in front of the stadium a sad sight 😢\n",
            "FCBarcelona Messi \n",
            " t.co/9QvOUbTSng\n",
            "\n",
            "8) 🗣: \"Adjectives have been exhausted trying to describe Messi but there are plenty to describe this really sad, slow,… t.co/1R4cw9YAyv\n",
            "\n",
            "9) Leo_Messi 10 👑\n",
            "Once you hear this name appear in front of you King..!!⚽️ of Football Not worth leaving this way H… t.co/RITHip8m75\n",
            "\n"
          ],
          "name": "stdout"
        }
      ]
    },
    {
      "cell_type": "code",
      "metadata": {
        "id": "UhGI1zhKhGJE",
        "colab_type": "code",
        "colab": {
          "base_uri": "https://localhost:8080/",
          "height": 441
        },
        "outputId": "a782be45-5cee-453e-c5f7-5dc5a7544c58"
      },
      "source": [
        "# Plot the polarity ans subjectivity\n",
        "plt.figure(figsize=(8,6))\n",
        "for i in range(0, df.shape[0]):\n",
        "  plt.scatter(df['Polarity'][i], df['Subjectivity'][i], color='Blue')\n",
        "\n",
        "plt.title('Sentiment Analysis')\n",
        "plt.xlabel('Polarity')\n",
        "plt.ylabel('Subjectivity')\n",
        "plt.show()"
      ],
      "execution_count": 46,
      "outputs": [
        {
          "output_type": "display_data",
          "data": {
            "image/png": "[encoded data removed]",
            "text/plain": [
              "<Figure size 576x432 with 1 Axes>"
            ]
          },
          "metadata": {
            "tags": []
          }
        }
      ]
    },
    {
      "cell_type": "code",
      "metadata": {
        "id": "NMojWX91i4-o",
        "colab_type": "code",
        "colab": {
          "base_uri": "https://localhost:8080/",
          "height": 34
        },
        "outputId": "fa24035d-2d30-493b-841d-4e7dd4135065"
      },
      "source": [
        "# get the percentage of positive tweets\n",
        "\n",
        "ptweet = df[df.Analysis == 'Positive']\n",
        "ptweet = ptweet['Tweets']\n",
        "\n",
        "round(ptweet.shape[0] / df.shape[0] * 100, 1)"
      ],
      "execution_count": 47,
      "outputs": [
        {
          "output_type": "execute_result",
          "data": {
            "text/plain": [
              "53.6"
            ]
          },
          "metadata": {
            "tags": []
          },
          "execution_count": 47
        }
      ]
    },
    {
      "cell_type": "code",
      "metadata": {
        "id": "KAAWopahj8Db",
        "colab_type": "code",
        "colab": {
          "base_uri": "https://localhost:8080/",
          "height": 34
        },
        "outputId": "fc834140-94ed-4a85-9058-bbb02335838d"
      },
      "source": [
        "# get the percentage of negative tweets\n",
        "\n",
        "ntweet = df[df.Analysis == 'Negative']\n",
        "ntweet = ntweet['Tweets']\n",
        "\n",
        "round(ntweet.shape[0] / df.shape[0] * 100, 1)"
      ],
      "execution_count": 49,
      "outputs": [
        {
          "output_type": "execute_result",
          "data": {
            "text/plain": [
              "9.3"
            ]
          },
          "metadata": {
            "tags": []
          },
          "execution_count": 49
        }
      ]
    },
    {
      "cell_type": "code",
      "metadata": {
        "id": "76llK4IjkEpr",
        "colab_type": "code",
        "colab": {
          "base_uri": "https://localhost:8080/",
          "height": 374
        },
        "outputId": "20c7b6de-9245-460e-cf38-095722292dcc"
      },
      "source": [
        "# Show the value counts\n",
        "\n",
        "df['Analysis'].value_counts()\n",
        "\n",
        "# Plot and visualize the counts\n",
        "plt.title('Sentiment Analysis')\n",
        "plt.xlabel('Sentiment')\n",
        "plt.ylabel('Counts')\n",
        "df['Analysis'].value_counts().plot(kind='bar')\n",
        "plt.show()"
      ],
      "execution_count": 50,
      "outputs": [
        {
          "output_type": "display_data",
          "data": {
            "image/png": "[encoded data removed]",
            "text/plain": [
              "<Figure size 432x288 with 1 Axes>"
            ]
          },
          "metadata": {
            "tags": []
          }
        }
      ]
    },
    {
      "cell_type": "code",
      "metadata": {
        "id": "kfM0FRjNk-aR",
        "colab_type": "code",
        "colab": {}
      },
      "source": [
        ""
      ],
      "execution_count": null,
      "outputs": []
    }
  ]
}